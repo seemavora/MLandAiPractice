{
 "metadata": {
  "language_info": {
   "codemirror_mode": {
    "name": "ipython",
    "version": 3
   },
   "file_extension": ".py",
   "mimetype": "text/x-python",
   "name": "python",
   "nbconvert_exporter": "python",
   "pygments_lexer": "ipython3",
   "version": "3.8.5-final"
  },
  "orig_nbformat": 2,
  "kernelspec": {
   "name": "python3",
   "display_name": "Python 3",
   "language": "python"
  }
 },
 "nbformat": 4,
 "nbformat_minor": 2,
 "cells": [
  {
   "cell_type": "code",
   "execution_count": 1,
   "metadata": {},
   "outputs": [
    {
     "output_type": "execute_result",
     "data": {
      "text/plain": [
       "3"
      ]
     },
     "metadata": {},
     "execution_count": 1
    }
   ],
   "source": [
    "##PYTHON FUNCTIONS\n",
    "x =1\n",
    "y = 2\n",
    "x+y \n",
    "#value is printed immediately since we are using an interactive python course"
   ]
  },
  {
   "cell_type": "code",
   "execution_count": 2,
   "metadata": {},
   "outputs": [
    {
     "output_type": "execute_result",
     "data": {
      "text/plain": [
       "3"
      ]
     },
     "metadata": {},
     "execution_count": 2
    }
   ],
   "source": [
    "def add_numer(x,y):\n",
    "    return x + y\n",
    "add_numer(1,2)"
   ]
  },
  {
   "cell_type": "code",
   "execution_count": 3,
   "metadata": {},
   "outputs": [
    {
     "output_type": "stream",
     "name": "stdout",
     "text": [
      "3\n6\n"
     ]
    }
   ],
   "source": [
    "def add_numers(x,y,z = None):\n",
    "    if(z == None):\n",
    "        return x+y\n",
    "    else:\n",
    "        return x+y+z\n",
    "#creates two optional params\n",
    "print(add_numers(1,2))\n",
    "print(add_numers(1,2,3))"
   ]
  },
  {
   "cell_type": "code",
   "execution_count": 1,
   "metadata": {},
   "outputs": [
    {
     "output_type": "execute_result",
     "data": {
      "text/plain": [
       "list"
      ]
     },
     "metadata": {},
     "execution_count": 1
    }
   ],
   "source": [
    "##Python Types and Sequences\n",
    "#Tuples\n",
    "x = (1,'a',2,'b')\n",
    "type(x)\n",
    "#items in an ordering that cannot be changed, written with (), and can have mixed types\n",
    "\n",
    "#Lists\n",
    "y = [1,'a',2,'b']\n",
    "y.append(3.3)\n",
    "type(y)\n",
    "#items can be added, changed, [] and iterable"
   ]
  },
  {
   "cell_type": "code",
   "execution_count": 2,
   "metadata": {},
   "outputs": [
    {
     "output_type": "stream",
     "name": "stdout",
     "text": [
      "t\nt\nth\n"
     ]
    }
   ],
   "source": [
    "hi = \"this is the hi string\"\n",
    "print(hi[0])\n",
    "print(hi[0:1])\n",
    "print(hi[0:2])"
   ]
  },
  {
   "cell_type": "code",
   "execution_count": 3,
   "metadata": {},
   "outputs": [
    {
     "output_type": "execute_result",
     "data": {
      "text/plain": [
       "'g'"
      ]
     },
     "metadata": {},
     "execution_count": 3
    }
   ],
   "source": [
    "hi[-1]"
   ]
  },
  {
   "cell_type": "code",
   "execution_count": 4,
   "metadata": {},
   "outputs": [
    {
     "output_type": "stream",
     "name": "stdout",
     "text": [
      "Bradley Cooper\nBradleyBradleyBradley\nTrue\n"
     ]
    }
   ],
   "source": [
    "firstName = 'Bradley'\n",
    "lastName = 'Cooper'\n",
    "\n",
    "print(firstName + ' ' + lastName)\n",
    "print(firstName *3)\n",
    "print('Bradley' in firstName)"
   ]
  },
  {
   "cell_type": "code",
   "execution_count": 10,
   "metadata": {},
   "outputs": [
    {
     "output_type": "stream",
     "name": "stdout",
     "text": [
      "Shawn\nMendes\n"
     ]
    }
   ],
   "source": [
    "fullName = 'Shawn Peter Raul Mendes'\n",
    "firstName = fullName.split(' ')[0]\n",
    "lastName = fullName.split(' ')[-1]\n",
    "print(firstName)\n",
    "print(lastName)"
   ]
  },
  {
   "cell_type": "code",
   "execution_count": 11,
   "metadata": {},
   "outputs": [
    {
     "output_type": "execute_result",
     "data": {
      "text/plain": [
       "'surabhi@sjsu.edu'"
      ]
     },
     "metadata": {},
     "execution_count": 11
    }
   ],
   "source": [
    "x = {'Surabhi' :'surabhi@sjsu.edu', 'Nanar': 'nanar@sjsu.edu'}\n",
    "x['Surabhi']"
   ]
  },
  {
   "cell_type": "code",
   "execution_count": 14,
   "metadata": {},
   "outputs": [
    {
     "output_type": "stream",
     "name": "stdout",
     "text": [
      "surabhi@sjsu.edu\nnanar@sjsu.edu\nNone\n"
     ]
    }
   ],
   "source": [
    "x['Seema']= None\n",
    "\n",
    "for name in x.values():\n",
    "    print(name)"
   ]
  },
  {
   "cell_type": "code",
   "execution_count": 15,
   "metadata": {},
   "outputs": [
    {
     "output_type": "stream",
     "name": "stdout",
     "text": [
      "Surabhi\nsurabhi@sjsu.edu\nNanar\nnanar@sjsu.edu\nSeema\nNone\n"
     ]
    }
   ],
   "source": [
    "for name, email in x.items():\n",
    "    print(name)\n",
    "    print(email)"
   ]
  },
  {
   "cell_type": "code",
   "execution_count": 16,
   "metadata": {},
   "outputs": [
    {
     "output_type": "execute_result",
     "data": {
      "text/plain": [
       "'sjsu.edu'"
      ]
     },
     "metadata": {},
     "execution_count": 16
    }
   ],
   "source": [
    "t = {'Seema','Vora','sjsu.edu'}\n",
    "fname, lname, email = t"
   ]
  },
  {
   "cell_type": "code",
   "execution_count": null,
   "metadata": {},
   "outputs": [],
   "source": []
  }
 ]
}