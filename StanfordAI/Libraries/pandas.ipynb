{
 "nbformat": 4,
 "nbformat_minor": 2,
 "metadata": {
  "language_info": {
   "name": "python",
   "codemirror_mode": {
    "name": "ipython",
    "version": 3
   },
   "version": "3.8.5-final"
  },
  "orig_nbformat": 2,
  "file_extension": ".py",
  "mimetype": "text/x-python",
  "name": "python",
  "npconvert_exporter": "python",
  "pygments_lexer": "ipython3",
  "version": 3,
  "kernelspec": {
   "name": "python3",
   "display_name": "Python 3"
  }
 },
 "cells": [
  {
   "cell_type": "code",
   "execution_count": 19,
   "metadata": {},
   "outputs": [
    {
     "data": {
      "text/plain": "0    10\n1    20\n2    30\n3    40\n4    50\n5    60\n6    70\ndtype: int64"
     },
     "execution_count": 19,
     "metadata": {},
     "output_type": "execute_result"
    }
   ],
   "source": [
    "import pandas as pd\n",
    "import numpy as np\n",
    "decades = pd.Series(np.array([10,20,30,40,50,60,70]))\n",
    "#Series:essentially a 1d array that can store data allow with indexing the elements (dic)\n",
    "decades"
   ]
  },
  {
   "cell_type": "code",
   "execution_count": 20,
   "metadata": {},
   "outputs": [
    {
     "data": {
      "text/plain": "Curry       30\nGreen       23\nChriss      26\nBazemore    32\ndtype: int64"
     },
     "execution_count": 20,
     "metadata": {},
     "output_type": "execute_result"
    }
   ],
   "source": [
    "#creating an array with personalized keys using .index\n",
    "GSWTeammates = pd.Series(np.array([30, 23,26,32]), index =(['Curry', 'Green' , 'Chriss', 'Bazemore']))\n",
    "GSWTeammates"
   ]
  },
  {
   "cell_type": "code",
   "execution_count": 21,
   "metadata": {},
   "outputs": [
    {
     "data": {
      "text/html": "<div>\n<style scoped>\n    .dataframe tbody tr th:only-of-type {\n        vertical-align: middle;\n    }\n\n    .dataframe tbody tr th {\n        vertical-align: top;\n    }\n\n    .dataframe thead th {\n        text-align: right;\n    }\n</style>\n<table border=\"1\" class=\"dataframe\">\n  <thead>\n    <tr style=\"text-align: right;\">\n      <th></th>\n      <th>Name</th>\n      <th>Age</th>\n      <th>Weight</th>\n      <th>College</th>\n    </tr>\n  </thead>\n  <tbody>\n    <tr>\n      <th>0</th>\n      <td>Seema</td>\n      <td>18</td>\n      <td>111</td>\n      <td>UCLA</td>\n    </tr>\n    <tr>\n      <th>1</th>\n      <td>Shreya</td>\n      <td>25</td>\n      <td>1</td>\n      <td>USC</td>\n    </tr>\n    <tr>\n      <th>2</th>\n      <td>Shruti</td>\n      <td>22</td>\n      <td>22</td>\n      <td>Stanford</td>\n    </tr>\n    <tr>\n      <th>3</th>\n      <td>Seema</td>\n      <td>23</td>\n      <td>685</td>\n      <td>Penn State</td>\n    </tr>\n    <tr>\n      <th>4</th>\n      <td>Meghna</td>\n      <td>12</td>\n      <td>369</td>\n      <td>UCI</td>\n    </tr>\n    <tr>\n      <th>5</th>\n      <td>Sujal</td>\n      <td>20</td>\n      <td>25</td>\n      <td>MIT</td>\n    </tr>\n    <tr>\n      <th>6</th>\n      <td>Harry</td>\n      <td>23</td>\n      <td>5</td>\n      <td>SJSU</td>\n    </tr>\n    <tr>\n      <th>7</th>\n      <td>Harry</td>\n      <td>58</td>\n      <td>85</td>\n      <td>Cal</td>\n    </tr>\n  </tbody>\n</table>\n</div>",
      "text/plain": "     Name  Age  Weight     College\n0   Seema   18     111        UCLA\n1  Shreya   25       1         USC\n2  Shruti   22      22    Stanford\n3   Seema   23     685  Penn State\n4  Meghna   12     369         UCI\n5   Sujal   20      25         MIT\n6   Harry   23       5        SJSU\n7   Harry   58      85         Cal"
     },
     "execution_count": 21,
     "metadata": {},
     "output_type": "execute_result"
    }
   ],
   "source": [
    "#creating a dataFrame (similar to a table) \n",
    "people_dict ={\n",
    "    \"Name\" : ['Seema','Shreya', 'Shruti','Seema','Meghna', 'Sujal', 'Harry', 'Harry'],\n",
    "    \"Age\" :[18,25,22,23,12,20,23,58],\n",
    "    \"Weight\":[111,1,22,685,369,25,5,85],\n",
    "    \"College\":['UCLA','USC',\"Stanford\", \"Penn State\", \"UCI\",\"MIT\",\"SJSU\",\"Cal\"]\n",
    "} #creates a dictionary of data \n",
    "people = pd.DataFrame(people_dict)\n",
    "people\n"
   ]
  },
  {
   "cell_type": "code",
   "execution_count": 22,
   "metadata": {},
   "outputs": [
    {
     "data": {
      "text/plain": "array(['Seema', 'Shreya', 'Shruti', 'Meghna', 'Sujal', 'Harry'],\n      dtype=object)"
     },
     "execution_count": 22,
     "metadata": {},
     "output_type": "execute_result"
    }
   ],
   "source": [
    "pd.unique(people[\"Name\"])\n",
    "#prints unique elements of the people dict"
   ]
  },
  {
   "cell_type": "code",
   "execution_count": 23,
   "metadata": {},
   "outputs": [
    {
     "data": {
      "text/html": "<div>\n<style scoped>\n    .dataframe tbody tr th:only-of-type {\n        vertical-align: middle;\n    }\n\n    .dataframe tbody tr th {\n        vertical-align: top;\n    }\n\n    .dataframe thead th {\n        text-align: right;\n    }\n</style>\n<table border=\"1\" class=\"dataframe\">\n  <thead>\n    <tr style=\"text-align: right;\">\n      <th></th>\n      <th>Age</th>\n      <th>Weight</th>\n    </tr>\n  </thead>\n  <tbody>\n    <tr>\n      <th>count</th>\n      <td>8.000000</td>\n      <td>8.000000</td>\n    </tr>\n    <tr>\n      <th>mean</th>\n      <td>25.125000</td>\n      <td>162.875000</td>\n    </tr>\n    <tr>\n      <th>std</th>\n      <td>13.881514</td>\n      <td>243.146304</td>\n    </tr>\n    <tr>\n      <th>min</th>\n      <td>12.000000</td>\n      <td>1.000000</td>\n    </tr>\n    <tr>\n      <th>25%</th>\n      <td>19.500000</td>\n      <td>17.750000</td>\n    </tr>\n    <tr>\n      <th>50%</th>\n      <td>22.500000</td>\n      <td>55.000000</td>\n    </tr>\n    <tr>\n      <th>75%</th>\n      <td>23.500000</td>\n      <td>175.500000</td>\n    </tr>\n    <tr>\n      <th>max</th>\n      <td>58.000000</td>\n      <td>685.000000</td>\n    </tr>\n  </tbody>\n</table>\n</div>",
      "text/plain": "             Age      Weight\ncount   8.000000    8.000000\nmean   25.125000  162.875000\nstd    13.881514  243.146304\nmin    12.000000    1.000000\n25%    19.500000   17.750000\n50%    22.500000   55.000000\n75%    23.500000  175.500000\nmax    58.000000  685.000000"
     },
     "execution_count": 23,
     "metadata": {},
     "output_type": "execute_result"
    }
   ],
   "source": [
    "people.describe(include =np.number)\n",
    "# .describe: gives the data mean,std, min, max and ranges (25,50,75)%\n",
    "# .number: gives all the numerical values excluding all other data types"
   ]
  },
  {
   "cell_type": "code",
   "execution_count": 26,
   "metadata": {},
   "outputs": [
    {
     "data": {
      "text/html": "<div>\n<style scoped>\n    .dataframe tbody tr th:only-of-type {\n        vertical-align: middle;\n    }\n\n    .dataframe tbody tr th {\n        vertical-align: top;\n    }\n\n    .dataframe thead th {\n        text-align: right;\n    }\n</style>\n<table border=\"1\" class=\"dataframe\">\n  <thead>\n    <tr style=\"text-align: right;\">\n      <th></th>\n      <th>Name</th>\n      <th>Age</th>\n      <th>Weight</th>\n      <th>College</th>\n    </tr>\n  </thead>\n  <tbody>\n    <tr>\n      <th>1</th>\n      <td>Shreya</td>\n      <td>25</td>\n      <td>1</td>\n      <td>USC</td>\n    </tr>\n    <tr>\n      <th>3</th>\n      <td>Seema</td>\n      <td>23</td>\n      <td>685</td>\n      <td>Penn State</td>\n    </tr>\n    <tr>\n      <th>6</th>\n      <td>Harry</td>\n      <td>23</td>\n      <td>5</td>\n      <td>SJSU</td>\n    </tr>\n    <tr>\n      <th>7</th>\n      <td>Harry</td>\n      <td>58</td>\n      <td>85</td>\n      <td>Cal</td>\n    </tr>\n  </tbody>\n</table>\n</div>",
      "text/plain": "     Name  Age  Weight     College\n1  Shreya   25       1         USC\n3   Seema   23     685  Penn State\n6   Harry   23       5        SJSU\n7   Harry   58      85         Cal"
     },
     "execution_count": 26,
     "metadata": {},
     "output_type": "execute_result"
    }
   ],
   "source": [
    "people[people[\"Age\"] >= 23]"
   ]
  },
  {
   "cell_type": "code",
   "execution_count": null,
   "metadata": {},
   "outputs": [],
   "source": []
  }
 ]
}